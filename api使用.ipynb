{
 "cells": [
  {
   "cell_type": "code",
   "execution_count": 1,
   "metadata": {},
   "outputs": [
    {
     "name": "stdout",
     "output_type": "stream",
     "text": [
      "{\"refresh_token\":\"25.bff52a52c1c846b6faec2a09c7533c2a.315360000.1866697524.282335-15648650\",\"expires_in\":2592000,\"session_key\":\"9mzdWu6FLpgT2GcmIvj2OyARryP\\/k\\/sYN+iZ63BXIWlvOYv3JEka1xXBa8JD3x\\/37Z5TRoEeZt4fYIWG7BSjgcpUeKMXjg==\",\"access_token\":\"24.a2d7a4d09435e716cf1cb163f176cb12.2592000.1553929524.282335-15648650\",\"scope\":\"public brain_all_scope vis-faceverify_faceverify_h5-face-liveness vis-faceverify_FACE_V3 wise_adapt lebo_resource_base lightservice_public hetu_basic lightcms_map_poi kaidian_kaidian ApsMisTest_Test\\u6743\\u9650 vis-classify_flower lpq_\\u5f00\\u653e cop_helloScope ApsMis_fangdi_permission smartapp_snsapi_base iop_autocar oauth_tp_app smartapp_smart_game_openapi oauth_sessionkey smartapp_swanid_verify smartapp_opensource_openapi\",\"session_secret\":\"5b5603ffdfaf2ce085888ceeb1ae36ef\"}\n",
      "\n"
     ]
    }
   ],
   "source": [
    "import requests\n",
    "\n",
    "ak = 'Zd50z6OSYov4jrOjEgiKYHld'\n",
    "sk = 'Pa7Wq3BNFECs1lx1OdQZu3h0WSAcis71'\n",
    "\n",
    "host = 'https://aip.baidubce.com/oauth/2.0/token?grant_type=client_credentials&client_id={}&client_secret={}'.format(ak,sk)\n",
    "\n",
    "res = requests.post(host)\n",
    "print(res.text)"
   ]
  },
  {
   "cell_type": "code",
   "execution_count": 3,
   "metadata": {},
   "outputs": [
    {
     "name": "stdout",
     "output_type": "stream",
     "text": [
      "0 female 76.25\n"
     ]
    }
   ],
   "source": [
    "import base64\n",
    "import json\n",
    "\n",
    "token = '24.a2d7a4d09435e716cf1cb163f176cb12.2592000.1553929524.282335-15648650'\n",
    "\n",
    "def get_img_base(file):\n",
    "    with open(file,'rb') as fp:\n",
    "        content = base64.b64encode(fp.read())\n",
    "        return content\n",
    "    \n",
    "request_url = \"https://aip.baidubce.com/rest/2.0/face/v3/detect\"\n",
    "request_url = request_url + \"?access_token=\" + token\n",
    "\n",
    "params = {\n",
    "    'image':get_img_base('test.jpg'),\n",
    "    'image_type':'BASE64',\n",
    "    'face_field':'age,beauty,gender'\n",
    "}\n",
    "\n",
    "res = requests.post(request_url,data=params)\n",
    "result = res.text\n",
    "json_result = json.loads(result)\n",
    "code = json_result['error_code']\n",
    "gender = json_result['result']['face_list'][0]['gender']['type']\n",
    "beauty = json_result['result']['face_list'][0]['beauty']\n",
    "print(code,gender,beauty)"
   ]
  },
  {
   "cell_type": "code",
   "execution_count": null,
   "metadata": {
    "collapsed": true
   },
   "outputs": [],
   "source": []
  }
 ],
 "metadata": {
  "kernelspec": {
   "display_name": "Python 3",
   "language": "python",
   "name": "python3"
  },
  "language_info": {
   "codemirror_mode": {
    "name": "ipython",
    "version": 3
   },
   "file_extension": ".py",
   "mimetype": "text/x-python",
   "name": "python",
   "nbconvert_exporter": "python",
   "pygments_lexer": "ipython3",
   "version": "3.6.3"
  }
 },
 "nbformat": 4,
 "nbformat_minor": 2
}
